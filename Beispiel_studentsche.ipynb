{
 "cells": [
  {
   "cell_type": "markdown",
   "metadata": {
    "slideshow": {
     "slide_type": "slide"
    }
   },
   "source": [
    "# <font color=brown>Bierflaschenabfüllungsproblem</font>"
   ]
  },
  {
   "cell_type": "markdown",
   "metadata": {},
   "source": [
    "## Eine Berliner Brauerei stellt helles Bier in Flaschen von 0,33L her. Ein Kunde der Brauerei beschwert sich darüber, dass die Flaschen die Gläser nicht bis zum Eichstrich füllen. Er maß den Inhalt von 6 Flaschen aus einem 6er-Pack und erhielt diese sechs Werte:\n",
    "## $M_1=320.48, M_2=336.68, M_3=315.31,$ $M_4=323.86, M_5=330.54, M_6=327.28$"
   ]
  },
  {
   "cell_type": "code",
   "execution_count": 1,
   "metadata": {
    "slideshow": {
     "slide_type": "fragment"
    }
   },
   "outputs": [
    {
     "data": {
      "text/plain": [
       "325.691666666667"
      ]
     },
     "execution_count": 1,
     "metadata": {},
     "output_type": "execute_result"
    }
   ],
   "source": [
    "bier_stichprobe = [320.48, 336.68, 315.31, 323.86, 330.54, 327.28]; anzahl_bier = len(bier_stichprobe)\n",
    "x_bar = sum(bier_stichprobe)/anzahl_bier; x_bar "
   ]
  },
  {
   "cell_type": "markdown",
   "metadata": {
    "slideshow": {
     "slide_type": "fragment"
    }
   },
   "source": [
    "## Das Stichprobenmittel beträgt: <font color=red>$\\overline{x}=325,\\!69166$</font>"
   ]
  },
  {
   "cell_type": "markdown",
   "metadata": {
    "slideshow": {
     "slide_type": "subslide"
    }
   },
   "source": [
    "# Die Stichprobenvarianz (empirische Varianz) beträgt:\n",
    "## (bias=False für die empirische Varianz)"
   ]
  },
  {
   "cell_type": "code",
   "execution_count": 2,
   "metadata": {
    "slideshow": {
     "slide_type": "fragment"
    }
   },
   "outputs": [
    {
     "name": "stdout",
     "output_type": "stream",
     "text": [
      "57.0136166666667\n"
     ]
    }
   ],
   "source": [
    "Vx = sage.stats.basic_stats.variance(bier_stichprobe, bias=False);\n",
    "print(Vx)\n",
    "Sx = sqrt(Vx)"
   ]
  },
  {
   "cell_type": "markdown",
   "metadata": {},
   "source": [
    "## Die Standardabweichung der Stichprobe beträgt <font color=red>$S_x=\\sqrt{V_x} \\,=7,\\!5507$</font>."
   ]
  },
  {
   "cell_type": "markdown",
   "metadata": {
    "slideshow": {
     "slide_type": "slide"
    }
   },
   "source": [
    "# <font color=red>AUFGABE:</font> Unter der Annahme, dass die Biermenge in den Flaschen normalverteilt ist, geben Sie ein Intervall für die durchschnittliche Biermenge in den Flaschen mit einer Konfidenz von 95% an."
   ]
  },
  {
   "cell_type": "markdown",
   "metadata": {
    "slideshow": {
     "slide_type": "fragment"
    }
   },
   "source": [
    "# Lösung:"
   ]
  },
  {
   "cell_type": "markdown",
   "metadata": {
    "slideshow": {
     "slide_type": "fragment"
    }
   },
   "source": [
    "# Schritt 1) Reduzierung auf den mathematischen Inhalt\n",
    "\n",
    "- <font color=red>Voraussetzung 1)</font> **Normalverteilte** Daten\n",
    "- <font color=red>Voraussetzung 2)</font> Stichprobe ist **klein** (n=6<30)\n",
    "- <font color=red>Voraussetzung 3)</font> Die Varianz der Grundgesamtheit (alle Bierflaschen) ist **unbekannt**\n",
    "\n",
    "### $\\Longrightarrow$ Wir sollten die Studentsche $t$-Verteilung nutzen."
   ]
  },
  {
   "cell_type": "markdown",
   "metadata": {
    "slideshow": {
     "slide_type": "subslide"
    }
   },
   "source": [
    "# Schritt 2) Modell einsetzen"
   ]
  },
  {
   "cell_type": "markdown",
   "metadata": {},
   "source": [
    "#### $M$: Zufallsvariable ,,Biermenge in mL in einer Flasche''\n",
    "#### $M\\sim \\text{Normal}($<font color=red>Unbekannte</font> $\\mu,$ <font color=red>Unbekannte</font> $\\sigma)$\n",
    "#### $M_1,M_2,\\dots,M_6$ sind $n=6$ unabhängige Realisierungen von $M$ mit Werten: \n",
    "#### 320.48, 336.68, 315.31, 323.86, 330.54, 327.28\n",
    "#### $\\overline{X}:=(M_1+M_2+M_3+M_4+M_5+M_6)/6$ : Zufallsvariable ,,Stichprobemittel\"\n",
    "#### $\\mu$ (Erwartungswert von $M$) wird durch $\\overline{x}$ (Stichprobemittel) geschätzt: <font color=red>$\\overline{X}=325,\\!69166$</font>"
   ]
  },
  {
   "cell_type": "markdown",
   "metadata": {
    "slideshow": {
     "slide_type": "subslide"
    }
   },
   "source": [
    "### Standardabweichung der Stichprobe ist <font color=red>$S_x=7,\\!5507$</font>\n",
    "### In Schritte 1) haben wir festgestellt, dass $\\boxed{\\left(\\overline{X}-\\mu\\right)/\\left(S_x/\\sqrt{n}\\right)\\sim T_{n-1}=T_{5}\\,\\,\\,\\,\\,}$\n",
    "\n",
    "### <font color=red>ZIEL</font>: Für welche $A,B\\in[0,\\infty]$ gilt:\n",
    "### $\\mathbb{P}(A\\leq \\mu\\leq B) = 0,\\!95$?"
   ]
  },
  {
   "cell_type": "markdown",
   "metadata": {
    "slideshow": {
     "slide_type": "slide"
    }
   },
   "source": [
    "# Schritt 3) Ermittlung der Lösung"
   ]
  },
  {
   "cell_type": "markdown",
   "metadata": {},
   "source": [
    "## Wir nutzen unsere Modelle und suchen $r$ sodass \n",
    "## $\\mathbb{P}\\left(-r\\leq \\sqrt{n}(\\overline{X}-{\\color{red}\\mu})/S_x \\leq r\\right) = 0,\\!95$."
   ]
  },
  {
   "cell_type": "markdown",
   "metadata": {
    "slideshow": {
     "slide_type": "fragment"
    }
   },
   "source": [
    "## Equivalent:\n",
    "## $\\mathbb{P}\\left(\\sqrt{n}(\\overline{X}-{\\color{red}\\mu})/S_x \\leq r\\right) = 0,\\!975$  (Symmetrie von $T$)"
   ]
  },
  {
   "cell_type": "markdown",
   "metadata": {
    "slideshow": {
     "slide_type": "slide"
    }
   },
   "source": [
    "## Wir nutzen die $t$-Verteilung aus ,,scipy\""
   ]
  },
  {
   "cell_type": "code",
   "execution_count": 3,
   "metadata": {},
   "outputs": [],
   "source": [
    "from scipy.stats import t\n",
    "T5 = t(df=5) # df = (D)egrees of (F)reedom: Hier 6-1=5"
   ]
  },
  {
   "cell_type": "markdown",
   "metadata": {},
   "source": [
    "## Die Funktion t.ppf(0.975) gibt uns den Wert von $r$, sodass\n",
    "## $\\mathbb{P}\\left(\\sqrt{n}(\\overline{X}-{\\color{red}\\mu})/S_x  \\leq r\\right) = 0,\\!975$ und \n",
    "## $\\sqrt{n}(\\overline{X}-{\\color{red}\\mu})/S_x \\sim T_{5}$ gilt."
   ]
  },
  {
   "cell_type": "code",
   "execution_count": 4,
   "metadata": {},
   "outputs": [
    {
     "data": {
      "text/plain": [
       "2.5705818366147395"
      ]
     },
     "execution_count": 4,
     "metadata": {},
     "output_type": "execute_result"
    }
   ],
   "source": [
    "r = T5.ppf(0.975); r"
   ]
  },
  {
   "cell_type": "markdown",
   "metadata": {
    "slideshow": {
     "slide_type": "subslide"
    }
   },
   "source": [
    "## Das heißt:"
   ]
  },
  {
   "cell_type": "markdown",
   "metadata": {},
   "source": [
    "### $\\mathbb{P}(-r\\leq \\sqrt{n}(\\overline{X}-{\\color{red}\\mu})/S_x \\leq r) = 0.95$\n",
    "### $\\Longleftrightarrow$\n",
    "### $\\mathbb{P}(\\overline{X}-S_x\\cdot r/\\sqrt{n}\\leq {\\color{red}\\mu} \\leq \\overline{X}+S_x\\cdot r/\\sqrt{n}) = 0.95$"
   ]
  },
  {
   "cell_type": "markdown",
   "metadata": {
    "slideshow": {
     "slide_type": "slide"
    }
   },
   "source": [
    "## Jetzt können wir das Intervall bestimmen:"
   ]
  },
  {
   "cell_type": "code",
   "execution_count": 5,
   "metadata": {},
   "outputs": [
    {
     "name": "stdout",
     "output_type": "stream",
     "text": [
      "r*Sx/sqrt(n) = 7.92401164432767\n",
      "Das Intervall ist: [317.767655022339, 333.615678310994]\n",
      "A=317.767655022339, B=333.615678310994\n"
     ]
    }
   ],
   "source": [
    "wert = n(r*Sx/sqrt(anzahl_bier))\n",
    "print(\"r*Sx/sqrt(n) = {}\".format(wert))\n",
    "A = x_bar - wert\n",
    "B = x_bar + wert\n",
    "interval = [A,B];\n",
    "print(\"Das Intervall ist: {}\".format(interval))\n",
    "print(\"A={}, B={}\".format(A,B))"
   ]
  },
  {
   "cell_type": "markdown",
   "metadata": {},
   "source": [
    "## $\\mathbb{P}\\left(\\overline{X}-7,\\!9240 \\leq \\mu \\leq \\overline{X}+7,\\!9240\\right) = 0,\\!95$"
   ]
  },
  {
   "cell_type": "markdown",
   "metadata": {},
   "source": [
    "\n",
    "## Da $\\overline{X}=325,\\!6916$, liegt das durchnittliche Volume $\\mu$ im Intervall $[317,\\!7676; 333,\\!6156]$ mit Wahrscheinlichkeit 95%."
   ]
  },
  {
   "cell_type": "markdown",
   "metadata": {
    "slideshow": {
     "slide_type": "slide"
    }
   },
   "source": [
    "# Schritt 4) Auslegung des Ergebnisses"
   ]
  },
  {
   "cell_type": "markdown",
   "metadata": {},
   "source": [
    "## Der Kunde kann zu 95% sicher sein, dass die durchschnittliche Biermenge $\\mu$ innerhalb $[317,\\!7676; 333,\\!6156]$ liegt."
   ]
  },
  {
   "cell_type": "markdown",
   "metadata": {
    "slideshow": {
     "slide_type": "slide"
    }
   },
   "source": [
    "## <font color=red>Vertiefungsfragen:</font>\n",
    "\n",
    "### 1. Hätte man die Normalverteilung anstelle der studentsche $t$-Verteilung verwenden können? Warum?\n",
    "### 2. Welches Konfidenzniveau macht die erwartete Menge (330 ml) außerhalb des Konfidenzintervalls aus? (Zum Beispiel sodass $B=329$.)"
   ]
  },
  {
   "cell_type": "markdown",
   "metadata": {
    "slideshow": {
     "slide_type": "subslide"
    }
   },
   "source": [
    "## Lösung für 2)"
   ]
  },
  {
   "cell_type": "code",
   "execution_count": 6,
   "metadata": {
    "slideshow": {
     "slide_type": "skip"
    }
   },
   "outputs": [],
   "source": [
    "neue_r = n((329 - x_bar)*sqrt(6)/Sx);\n",
    "neue_wert = n(neue_r*Sx/sqrt(anzahl_bier))\n",
    "neue_A = x_bar - neue_wert\n",
    "neue_B = x_bar + neue_wert\n",
    "neue_intervall = [neue_A,neue_B];"
   ]
  },
  {
   "cell_type": "code",
   "execution_count": 7,
   "metadata": {},
   "outputs": [
    {
     "name": "stdout",
     "output_type": "stream",
     "text": [
      "Das gewünschte r ist 1.07323688528670\n",
      "r*S/sqrt(n) = 3.30833333333334\n",
      "Das neue Intervall ist [322.383333333333, 329.000000000000]\n",
      "A=322.383333333333, B=329.000000000000\n"
     ]
    }
   ],
   "source": [
    "print(\"Das gewünschte r ist {}\".format(neue_r))\n",
    "print(\"r*S/sqrt(n) = {}\".format(neue_wert))\n",
    "print(\"Das neue Intervall ist {}\".format(neue_intervall))\n",
    "print(\"A={}, B={}\".format(neue_A,neue_B))"
   ]
  },
  {
   "cell_type": "markdown",
   "metadata": {},
   "source": [
    "#### .cdf steht für *Cumulative distribution function*, also\n",
    "#### $T.cdf(r)$ gibt die Wahrscheinlichkeit $\\mathbb{P}(T\\leq r)$"
   ]
  },
  {
   "cell_type": "code",
   "execution_count": 8,
   "metadata": {},
   "outputs": [
    {
     "data": {
      "text/plain": [
       "0.8338960319076213"
      ]
     },
     "execution_count": 8,
     "metadata": {},
     "output_type": "execute_result"
    }
   ],
   "source": [
    "asymmetrische_wkeit = T5.cdf(neue_r); asymmetrische_wkeit"
   ]
  },
  {
   "cell_type": "markdown",
   "metadata": {
    "slideshow": {
     "slide_type": "subslide"
    }
   },
   "source": [
    "### Nun berechnen wir die Wahrscheinlichkeit für das symmetrische Intervall $[322,\\!38; 329]$"
   ]
  },
  {
   "cell_type": "code",
   "execution_count": 9,
   "metadata": {},
   "outputs": [
    {
     "data": {
      "text/plain": [
       "0.6677920638152426"
      ]
     },
     "execution_count": 9,
     "metadata": {},
     "output_type": "execute_result"
    }
   ],
   "source": [
    "1 - (2 * (1 - asymmetrische_wkeit))"
   ]
  },
  {
   "cell_type": "markdown",
   "metadata": {},
   "source": [
    "## Durch die Symmetrie von $t_5$ erhalten wir, dass der Kunde ein <font color=red>66%</font> Konfidenzniveau hat, dass der Durchschnitt im Intervall $[322,\\!38; 329]$ liegt."
   ]
  },
  {
   "cell_type": "markdown",
   "metadata": {
    "slideshow": {
     "slide_type": "-"
    }
   },
   "source": [
    "## Mit der Normalverteilung hätten wir ein <font color=red>71,68%</font> Konfidenzniveau bekommen. (Es stimmt aber mathematisch <font color=red>nicht!</font>\")"
   ]
  },
  {
   "cell_type": "code",
   "execution_count": 10,
   "metadata": {
    "slideshow": {
     "slide_type": "skip"
    }
   },
   "outputs": [
    {
     "data": {
      "text/plain": [
       "0.716835154934846"
      ]
     },
     "execution_count": 10,
     "metadata": {},
     "output_type": "execute_result"
    }
   ],
   "source": [
    "from scipy.stats import norm\n",
    "Normal_Verteilung = norm(0,1)\n",
    "asymmetrische_wkeit_norm = Normal_Verteilung.cdf(neue_r)\n",
    "1 - (2 * (1 - asymmetrische_wkeit_norm))"
   ]
  }
 ],
 "metadata": {
  "celltoolbar": "Slideshow",
  "kernelspec": {
   "display_name": "SageMath 9.1.beta2",
   "language": "sage",
   "name": "sagemath"
  },
  "language_info": {
   "codemirror_mode": {
    "name": "ipython",
    "version": 3
   },
   "file_extension": ".py",
   "mimetype": "text/x-python",
   "name": "python",
   "nbconvert_exporter": "python",
   "pygments_lexer": "ipython3",
   "version": "3.7.3"
  }
 },
 "nbformat": 4,
 "nbformat_minor": 2
}
